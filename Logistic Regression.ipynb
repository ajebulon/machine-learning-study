{
 "cells": [
  {
   "cell_type": "markdown",
   "id": "f24ef3ea",
   "metadata": {},
   "source": [
    "# Logistic Regression: Step-by-Step\n",
    "\n",
    "This notebook will guide you to make a logistic regression. Don't let the regression word fool you, as this is actually a classification technique used in Machine Learning. By the end of this notebook, you will be able to make your own classifier from multiple input variables.\n",
    "\n",
    "The biggest different between regression and classification technique is, regression predicts value, while classification predicts label. For example, given a student's exam score, homework score, and attendance, the model should be able to determine whether the student PASS or FAIL the course. In this example, there are 3 variable: exam score ($x_0$), homework score ($x_1$), and attendance ($x_2$), and the label to predict is a boolean value, TRUE/FALSE, PASS/FAIL.\n",
    "\n",
    "Logistic regression is one of the supervised Machine Learning algorithm, which means, given input data & target data, the algorithm will ~~magically~~ statistically model the mapping between input data & target data, without needing the user to define the model by themselves.\n",
    "\n",
    "In the previous notebook, we define the linear regression model as:\n",
    "\n",
    "$$y=wx+b$$\n",
    "\n",
    "where $w$ indicates $weight$ and $b$ indicates $bias$. In logistic regression, we will keep using the same formula, but with new introduction to something called activation function, which we will use very extensively in Neural Network. The activation function that we will use in logistic regression is $sigmoid$ function, which is defined by:\n",
    "\n",
    "$$sigmoid(z) = \\sigma(z) = \\frac{1}{1+\\exp(-z)}$$\n",
    "\n",
    "This sigmoid function is applied to the previous equation $y=wx+b$, so from now on we will use this naming convention to avoid confusion:\n",
    "\n",
    "$$z=wx+b$$"
   ]
  },
  {
   "cell_type": "code",
   "execution_count": 1,
   "id": "a7b5d1ec",
   "metadata": {},
   "outputs": [],
   "source": [
    "import numpy as np\n",
    "import matplotlib.pyplot as plt\n",
    "np.random.seed(0)\n",
    "plt.close('all')"
   ]
  },
  {
   "cell_type": "code",
   "execution_count": 2,
   "id": "e0dd7e27",
   "metadata": {},
   "outputs": [],
   "source": [
    "# Sigmoid function definition\n",
    "def sigmoid(z):\n",
    "    return 1 / (1 + np.exp(-z))"
   ]
  },
  {
   "cell_type": "code",
   "execution_count": 6,
   "id": "356a2aff",
   "metadata": {},
   "outputs": [
    {
     "data": {
      "text/plain": [
       "[<matplotlib.lines.Line2D at 0x166819659d0>]"
      ]
     },
     "execution_count": 6,
     "metadata": {},
     "output_type": "execute_result"
    },
    {
     "data": {
      "image/png": "[encoded data removed]",
      "text/plain": [
       "<Figure size 432x288 with 1 Axes>"
      ]
     },
     "metadata": {
      "needs_background": "light"
     },
     "output_type": "display_data"
    }
   ],
   "source": [
    "x_s = np.linspace(-10, 10, 100)\n",
    "plt.figure()\n",
    "plt.grid()\n",
    "plt.title('Sigmoid Curve')\n",
    "plt.plot(x_s, sigmoid(x_s))"
   ]
  },
  {
   "cell_type": "markdown",
   "id": "3e946cf4",
   "metadata": {},
   "source": [
    "As we can see from figure above, the sigmoid curve is limited between 0 and 1. When applied to the output of Linear Regression formula $z=wx+b$, this will effectively limit the output between 0 and 1. This sigmoid activation function output acts as the probability of something classified as TRUE or FALSE. When $\\sigma(z) \\geq{0.5}$, we can classify the predicted label as TRUE, and when $\\sigma(z) < 0.5$, it is classified as FALSE.\n",
    "\n",
    "Overall flow of logistic regression is pictured below:\n",
    "<img src=\"img/logistic-regression-fig.png\" width=360 height=360 />"
   ]
  },
  {
   "cell_type": "code",
   "execution_count": null,
   "id": "943aabee",
   "metadata": {},
   "outputs": [],
   "source": []
  }
 ],
 "metadata": {
  "kernelspec": {
   "display_name": "Python 3 (ipykernel)",
   "language": "python",
   "name": "python3"
  },
  "language_info": {
   "codemirror_mode": {
    "name": "ipython",
    "version": 3
   },
   "file_extension": ".py",
   "mimetype": "text/x-python",
   "name": "python",
   "nbconvert_exporter": "python",
   "pygments_lexer": "ipython3",
   "version": "3.8.12"
  }
 },
 "nbformat": 4,
 "nbformat_minor": 5
}

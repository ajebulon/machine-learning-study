{
 "cells": [
  {
   "cell_type": "markdown",
   "id": "dfd03560",
   "metadata": {},
   "source": [
    "# Linear Regression: Step-by-Step\n",
    "\n",
    "This notebook will guide you to make a simple univariate linear regression, meaning: there is only 1 independent variable as the input, and 1 dependent variable as the output. No other Machine Learning (ML) framework is used here to learn about the basic process of linear regression.\n",
    "\n",
    "In the simplest form, linear regression model can be defined as:\n",
    "\n",
    "$$y=mx+c$$\n",
    "\n",
    "where $m$ indicates the gradient/slope of the line, and $c$ indicates the height offset of the line. However, to minimize the confusion with Neural Network (NN) later, let's use the similar term used in NN:\n",
    "\n",
    "$$y=wx+b$$\n",
    "\n",
    "where $w$ indicates $weight$ (coresponds to slope, $m$/), and $b$ indicates $bias$ (corresponds to height offset, $c$)\n",
    "\n",
    "Linear regression is one of the supervised Machine Learning algorithm, which means, given input data & target data, the algorithm will ~~magically~~ statistically model the mapping between input data & target data, without needing the user to define the model by themselves"
   ]
  },
  {
   "cell_type": "code",
   "execution_count": 10,
   "id": "f9217a21",
   "metadata": {},
   "outputs": [],
   "source": [
    "import numpy as np\n",
    "import matplotlib.pyplot as plt\n",
    "np.random.seed(0)\n",
    "plt.close('all')"
   ]
  },
  {
   "cell_type": "markdown",
   "id": "370e9ef3",
   "metadata": {},
   "source": [
    "## 0 - Vectorization Introduction\n",
    "\n",
    "This notebook will use Vectorization, meaning that we will use matrix multiplication as much as possible to replace iteration method. \n",
    "\n",
    "We will generate input data and target data as 2D data. This means that the data will have row and column, and each sample is added as a new column (added horizontally)\n",
    "\n",
    "$$\n",
    "x = \\begin{bmatrix} \n",
    "\\begin{bmatrix} \n",
    "x_{0} & x_{1} & ... & x_{N-1}\n",
    "\\end{bmatrix}\n",
    "\\end{bmatrix}\n",
    "$$"
   ]
  },
  {
   "cell_type": "code",
   "execution_count": 11,
   "id": "5b53423a",
   "metadata": {},
   "outputs": [
    {
     "name": "stdout",
     "output_type": "stream",
     "text": [
      "Input data shape: (1, 100)\n",
      "Target data shape: (1, 100)\n"
     ]
    }
   ],
   "source": [
    "# Generate univariate training dataset\n",
    "TARGET_W = -1\n",
    "TARGET_B = 2\n",
    "SAMPLE_NM = 100\n",
    "x = np.random.random(size=(1, SAMPLE_NM)) * 10\n",
    "noise = (np.random.random(size=(1, SAMPLE_NM)) - 0.5) * 3\n",
    "y = (TARGET_W * x + TARGET_B) + noise\n",
    "print(\"Input data shape: {}\".format(x.shape))\n",
    "print(\"Target data shape: {}\".format(x.shape))"
   ]
  },
  {
   "cell_type": "code",
   "execution_count": 12,
   "id": "6bf97dce",
   "metadata": {},
   "outputs": [
    {
     "data": {
      "text/plain": [
       "Text(0, 0.5, 'Output')"
      ]
     },
     "execution_count": 12,
     "metadata": {},
     "output_type": "execute_result"
    },
    {
     "data": {
      "image/png": "[encoded data removed]",
      "text/plain": [
       "<Figure size 432x288 with 1 Axes>"
      ]
     },
     "metadata": {
      "needs_background": "light"
     },
     "output_type": "display_data"
    }
   ],
   "source": [
    "# Draw training dataset\n",
    "plt.figure()\n",
    "plt.grid()\n",
    "plt.scatter(x, y, marker='x')\n",
    "plt.xlabel('Input')\n",
    "plt.ylabel('Output')"
   ]
  },
  {
   "cell_type": "markdown",
   "id": "7240ccda",
   "metadata": {},
   "source": [
    "Given those data points (input, target) in the figure above, we will use Linear Regression method to define the model. Let's start of"
   ]
  },
  {
   "cell_type": "markdown",
   "id": "1e2cf879",
   "metadata": {},
   "source": [
    "## 1 - Weight Initialization\n",
    "\n",
    "Actually, we have two variables to optimize: $weight$ and $bias$, so this initialization is basically done for all variable that needs optimization, not only the $weight$. For linear regression, initializing $w$ and $b$ by zero may be fine, however it may not be a good practice for Neural Network, for some reasons that I may explain later.\n",
    "\n",
    "For this notebook, let's start with random initialization for both $w$ and $b$. By running the next command, both $w$ and $b$ will be initialized with random value: $-0.5$ $\\leq$ $(w, b)$ $\\leq$ $0.5$\n",
    "\n",
    "Since this is a univariate linear regression, there is only 1 input variable, so there is only 1 weight and 1 bias. For optimization reason, $size$ needs to be defined as 2D-shape."
   ]
  },
  {
   "cell_type": "code",
   "execution_count": 13,
   "id": "0836ccd3",
   "metadata": {},
   "outputs": [
    {
     "name": "stdout",
     "output_type": "stream",
     "text": [
      "w[(1, 1)]: [[-0.18820412]]\n",
      "b[(1, 1)]: [[0.19634349]]\n"
     ]
    }
   ],
   "source": [
    "# Weight Initialization\n",
    "w = np.random.random(size=(1, 1)) - 0.5\n",
    "b = np.random.random(size=(1, 1)) - 0.5\n",
    "w_init = np.copy(w) # Backup purpose\n",
    "b_init = np.copy(b) # Backup purpose\n",
    "print(\"w[{}]: {}\".format(w.shape, w))\n",
    "print(\"b[{}]: {}\".format(b.shape, b))"
   ]
  },
  {
   "cell_type": "markdown",
   "id": "998539d4",
   "metadata": {},
   "source": [
    "## 2 - Cost Function\n",
    "\n",
    "Cost function defines how bad our variable-to-optimize in predicting the label data. Basically, it calculates how big the difference is, between $target$ and the $output$ of our model, given the current value of $w$ and $b$. There are many different cost functions for different use case, that we will learn later as this progresses, but for now, we will use Mean Squared Error (MSE) as the cost function:\n",
    "\n",
    "$$J = \\frac{1}{N} \\sum_{i = 0}^{N-1} (y_{i} - \\hat{y_{i}})^{2}$$\n",
    "\n",
    "and\n",
    "\n",
    "$$\\hat{y_{i}} = wx_{i} + b$$\n",
    "\n",
    "$i$ indicates the index of the training data sample that we have, so $x_{0}$ indicates the first $input$ sample. $\\hat{y_{0}}$ indicates the model $output$ when given the first $input$ sample. $y_{0}$ indicates the $label$, or truth, of the first $input$ sample. \n",
    "\n",
    "Basically this MSE cost function calculates the squared-difference between $target$ and $output$, and average it along all the samples we have in training set."
   ]
  },
  {
   "cell_type": "code",
   "execution_count": 14,
   "id": "eb2ffc2c",
   "metadata": {},
   "outputs": [],
   "source": [
    "# Cost function definition\n",
    "def calculate_cost(x, y, w, b):\n",
    "    y_hat = np.matmul(w, x) + b\n",
    "    return np.mean(np.square(y - y_hat))"
   ]
  },
  {
   "cell_type": "markdown",
   "id": "b249467d",
   "metadata": {},
   "source": [
    "## 3 - Optimization\n",
    "\n",
    "The purpose of this optimization stage is to adjust the trainable parameter $(w, b)$ to minimize the cost value. This literally means, changing $(w, b)$ so the difference between model $output$ and $target$ value is smaller. \n",
    "\n",
    "To modify the trainable parameter $(w, b)$, we need to calculate how each trainable parameter will affect the cost value. This can be done by doing partial derivative of the cost function, with respect to each trainable parameter $(w, b)$. Both weight and bias will be updated following these formula:\n",
    "$$\\begin{align}\n",
    "w &= w - \\alpha\\displaystyle \\frac{\\partial J}{\\partial w} \\\\\n",
    "\\\\\n",
    "b &= b - \\alpha\\displaystyle \\frac{\\partial J}{\\partial b}\n",
    "\\end{align}$$\n",
    "\n",
    "$\\alpha$ indicates learning rate, which roughly means how big we should update to the trainable parameter. Smaller number indicates slower training process, but less prone to overshoot. Higher number indicates faster training process, but has higher possibilies to overshoot, which means the cost function is actually getting bigger after weight update. Typically we can test out some learning rate such as: $\\{0.1, 0.01, 0.001, ...\\}$.\n",
    "\n",
    "### 3.1 - Partial Derivatives\n",
    "\n",
    "From the cost function:\n",
    "\n",
    "$$J = \\frac{1}{N} \\sum_{i = 0}^{N-1} (y_{i} - \\hat{y_{i}})^{2}$$\n",
    "\n",
    "Since $\\hat{y_{i}}$ is a function of $(w, b)$, we can rewrite the cost function as:\n",
    "\n",
    "$$\n",
    "\\begin{align}\n",
    "J(w, b) \n",
    "& = \\frac{1}{N} \\sum_{i = 0}^{N-1} (y_{i} - (wx_{i} + b))^{2} \\\\\n",
    "& = \\frac{1}{N} \\sum_{i = 0}^{N-1} (y_{i} - wx_{i} - b)^{2}\n",
    "\\end{align}\n",
    "$$\n",
    "\n",
    "Now let's separate the inner part of the summation as separate functions:\n",
    "\n",
    "$$P(w, b) = (y_{i} - wx_{i} - b)$$\n",
    "\n",
    "and\n",
    "\n",
    "$$Q(P) = P^{2}$$\n",
    "\n",
    "so that\n",
    "\n",
    "$$J(w, b) = \\frac{1}{N} \\sum_{i = 0}^{N-1} Q(P)$$\n",
    "\n",
    "Now we can calculate partial derivative of each separate function. First for $P(w, b) = (y_{i} - wx_{i} - b)$\n",
    "\n",
    "$$\\displaystyle \\frac{\\partial P}{\\partial w} = -x_{i}$$\n",
    "\n",
    "$$\\displaystyle \\frac{\\partial P}{\\partial b} = -1$$\n",
    "\n",
    "and for $Q(P) = P^{2}$\n",
    "\n",
    "\\begin{align}\n",
    "\\displaystyle \\frac{\\partial Q}{\\partial P} &= 2P \\\\\n",
    "&= 2(y_{i} - wx_{i} - b) \\\\\n",
    "\\end{align}\n",
    "\n",
    "Now we can start calculating both $\\displaystyle \\frac{\\partial J}{\\partial w}$ and $\\displaystyle \\frac{\\partial J}{\\partial b}$, by using Chain Rule:\n",
    "\n",
    "\n",
    "$$\n",
    "\\begin{align}\n",
    "\\displaystyle \\frac{\\partial J}{\\partial w} &= \\displaystyle \\frac{\\partial J}{\\partial Q} \\displaystyle \\frac{\\partial Q}{\\partial P} \\displaystyle \\frac{\\partial P}{\\partial w} \\\\\n",
    "&= \\frac{1}{N} \\sum_{i = 0}^{N-1} 2(y_{i} - wx_{i} - b).-x_{i} \\\\\n",
    "&= -\\frac{2}{N} \\sum_{i = 0}^{N-1} (y_{i} - wx_{i} - b).x_{i}\n",
    "\\end{align}\n",
    "$$\n",
    "\n",
    "\n",
    "$$\n",
    "\\begin{align}\n",
    "\\displaystyle \\frac{\\partial J}{\\partial b} &= \\displaystyle \\frac{\\partial J}{\\partial Q} \\displaystyle \\frac{\\partial Q}{\\partial P} \\displaystyle \\frac{\\partial P}{\\partial b} \\\\\n",
    "&= \\frac{1}{N} \\sum_{i = 0}^{N-1} 2(y_{i} - wx_{i} - b).-1 \\\\\n",
    "&= -\\frac{2}{N} \\sum_{i = 0}^{N-1} (y_{i} - wx_{i} - b)\n",
    "\\end{align}\n",
    "$$"
   ]
  },
  {
   "cell_type": "code",
   "execution_count": 15,
   "id": "0b76a967",
   "metadata": {},
   "outputs": [
    {
     "name": "stdout",
     "output_type": "stream",
     "text": [
      "Initial cost: 10.226906\n",
      "Epoch-0: 9.204578\n",
      "Epoch-1000: 1.083598\n",
      "Epoch-2000: 0.823940\n",
      "Epoch-3000: 0.733899\n",
      "Epoch-4000: 0.702675\n",
      "Epoch-5000: 0.691847\n",
      "Epoch-6000: 0.688092\n",
      "Epoch-7000: 0.686790\n",
      "Epoch-8000: 0.686339\n",
      "Epoch-9000: 0.686182\n",
      "Final cost: 0.686128\n"
     ]
    }
   ],
   "source": [
    "# Training\n",
    "cost = calculate_cost(x, y, w, b)\n",
    "print(\"Initial cost: {:.6f}\".format(cost))\n",
    "\n",
    "EPOCH_NM = 10000\n",
    "cost_history = [cost]\n",
    "for epoch in range(EPOCH_NM):\n",
    "    \n",
    "    # Calculate derivative\n",
    "    N = x.shape[1]\n",
    "    w_d = -2 / N * np.matmul((y - np.matmul(w, x) - b), x.T)\n",
    "    b_d = -2 / N * np.sum(y - np.matmul(w, x) - b)\n",
    "    \n",
    "    # Update the weight\n",
    "    l_rate = 1e-3\n",
    "    w = w - l_rate * w_d\n",
    "    b = b - l_rate * b_d\n",
    "    \n",
    "    # Calculate cost and store to history\n",
    "    cost = calculate_cost(x, y, w, b)\n",
    "    cost_history.append(cost)\n",
    "    if epoch % (EPOCH_NM//10) == 0:\n",
    "        print(\"Epoch-{}: {:.6f}\".format(epoch, cost))\n",
    "    \n",
    "print(\"Final cost: {:.6f}\".format(cost_history[-1]))"
   ]
  },
  {
   "cell_type": "code",
   "execution_count": 16,
   "id": "00524b9d",
   "metadata": {},
   "outputs": [
    {
     "data": {
      "text/plain": [
       "[<matplotlib.lines.Line2D at 0x2a3d132df40>]"
      ]
     },
     "execution_count": 16,
     "metadata": {},
     "output_type": "execute_result"
    },
    {
     "data": {
      "image/png": "[encoded data removed]",
      "text/plain": [
       "<Figure size 432x288 with 1 Axes>"
      ]
     },
     "metadata": {
      "needs_background": "light"
     },
     "output_type": "display_data"
    }
   ],
   "source": [
    "plt.figure()\n",
    "plt.title(\"Cost function over epoch\")\n",
    "plt.grid()\n",
    "plt.plot(cost_history[:EPOCH_NM//100])"
   ]
  },
  {
   "cell_type": "markdown",
   "id": "e363240a",
   "metadata": {},
   "source": [
    "Great! Now that we verify that the cost value decreases every epoch, meaning that the model is trained properly. Now let's see the final formula and the line drawn using our trained model"
   ]
  },
  {
   "cell_type": "code",
   "execution_count": 17,
   "id": "18539181",
   "metadata": {},
   "outputs": [
    {
     "data": {
      "text/plain": [
       "<matplotlib.legend.Legend at 0x2a3d1454fd0>"
      ]
     },
     "execution_count": 17,
     "metadata": {},
     "output_type": "execute_result"
    },
    {
     "data": {
      "image/png": "[encoded data removed]",
      "text/plain": [
       "<Figure size 432x288 with 1 Axes>"
      ]
     },
     "metadata": {
      "needs_background": "light"
     },
     "output_type": "display_data"
    }
   ],
   "source": [
    "x_test = np.linspace(0, 10, 20).reshape(1, -1)\n",
    "y_test = np.matmul(w, x_test) + b\n",
    "\n",
    "plt.figure()\n",
    "plt.grid()\n",
    "plt.scatter(x, y)\n",
    "plt.plot(x_test.T, y_test.T)\n",
    "plt.legend([\"y = {:.3f}x+{:.3f}\".format(w.item(), b.item())])"
   ]
  },
  {
   "cell_type": "code",
   "execution_count": 18,
   "id": "d969d2e3",
   "metadata": {},
   "outputs": [
    {
     "name": "stdout",
     "output_type": "stream",
     "text": [
      "Weight before training\n",
      "w[(1, 1)]: [[-0.18820412]]\n",
      "b[(1, 1)]: [[0.19634349]]\n",
      "\n",
      "Weight after training\n",
      "w[(1, 1)]: [[-1.01743027]]\n",
      "b[(1, 1)]: [[2.16392379]]\n",
      "\n",
      "Target weight\n",
      "w: -1\n",
      "b: 2\n"
     ]
    }
   ],
   "source": [
    "print(\"Weight before training\")\n",
    "print(\"w[{}]: {}\".format(w_init.shape, w_init))\n",
    "print(\"b[{}]: {}\".format(b_init.shape, b_init))\n",
    "print(\"\\nWeight after training\")\n",
    "print(\"w[{}]: {}\".format(w.shape, w))\n",
    "print(\"b[{}]: {}\".format(b.shape, b))\n",
    "print(\"\\nTarget weight\")\n",
    "print(\"w: {}\".format(TARGET_W))\n",
    "print(\"b: {}\".format(TARGET_B))"
   ]
  },
  {
   "cell_type": "markdown",
   "id": "ef8d1317",
   "metadata": {},
   "source": [
    "Congratulation! You've finished your very first Machine Learning algorithm"
   ]
  },
  {
   "cell_type": "code",
   "execution_count": null,
   "id": "41906bb8",
   "metadata": {},
   "outputs": [],
   "source": []
  }
 ],
 "metadata": {
  "kernelspec": {
   "display_name": "Python 3 (ipykernel)",
   "language": "python",
   "name": "python3"
  },
  "language_info": {
   "codemirror_mode": {
    "name": "ipython",
    "version": 3
   },
   "file_extension": ".py",
   "mimetype": "text/x-python",
   "name": "python",
   "nbconvert_exporter": "python",
   "pygments_lexer": "ipython3",
   "version": "3.8.12"
  }
 },
 "nbformat": 4,
 "nbformat_minor": 5
}
